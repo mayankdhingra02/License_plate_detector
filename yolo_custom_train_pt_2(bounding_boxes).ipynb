{
 "cells": [
  {
   "cell_type": "code",
   "execution_count": 2,
   "metadata": {},
   "outputs": [
    {
     "ename": "FileNotFoundError",
     "evalue": "[WinError 3] The system cannot find the path specified: 'images'",
     "output_type": "error",
     "traceback": [
      "\u001b[1;31m---------------------------------------------------------------------------\u001b[0m",
      "\u001b[1;31mFileNotFoundError\u001b[0m                         Traceback (most recent call last)",
      "\u001b[1;32m<ipython-input-2-3d260ef77096>\u001b[0m in \u001b[0;36m<module>\u001b[1;34m\u001b[0m\n\u001b[0;32m     46\u001b[0m \u001b[1;33m\u001b[0m\u001b[0m\n\u001b[0;32m     47\u001b[0m \u001b[1;32mif\u001b[0m \u001b[0m__name__\u001b[0m \u001b[1;33m==\u001b[0m \u001b[1;34m'__main__'\u001b[0m\u001b[1;33m:\u001b[0m\u001b[1;33m\u001b[0m\u001b[1;33m\u001b[0m\u001b[0m\n\u001b[1;32m---> 48\u001b[1;33m     \u001b[1;32mfor\u001b[0m \u001b[0mn\u001b[0m\u001b[1;33m,\u001b[0m \u001b[0mimage_file\u001b[0m \u001b[1;32min\u001b[0m \u001b[0menumerate\u001b[0m\u001b[1;33m(\u001b[0m\u001b[0mos\u001b[0m\u001b[1;33m.\u001b[0m\u001b[0mscandir\u001b[0m\u001b[1;33m(\u001b[0m\u001b[0mimage_folder\u001b[0m\u001b[1;33m)\u001b[0m\u001b[1;33m)\u001b[0m\u001b[1;33m:\u001b[0m\u001b[1;33m\u001b[0m\u001b[1;33m\u001b[0m\u001b[0m\n\u001b[0m\u001b[0;32m     49\u001b[0m         \u001b[0mimg\u001b[0m \u001b[1;33m=\u001b[0m \u001b[0mimage_file\u001b[0m\u001b[1;33m\u001b[0m\u001b[1;33m\u001b[0m\u001b[0m\n\u001b[0;32m     50\u001b[0m         \u001b[0mfig\u001b[0m\u001b[1;33m,\u001b[0m \u001b[0max\u001b[0m \u001b[1;33m=\u001b[0m \u001b[0mplt\u001b[0m\u001b[1;33m.\u001b[0m\u001b[0msubplots\u001b[0m\u001b[1;33m(\u001b[0m\u001b[1;36m1\u001b[0m\u001b[1;33m)\u001b[0m\u001b[1;33m\u001b[0m\u001b[1;33m\u001b[0m\u001b[0m\n",
      "\u001b[1;31mFileNotFoundError\u001b[0m: [WinError 3] The system cannot find the path specified: 'images'"
     ]
    }
   ],
   "source": [
    "import os\n",
    "import matplotlib.pyplot as plt\n",
    "import cv2\n",
    "from matplotlib.widgets import RectangleSelector\n",
    "#from generate_xml import write_xml\n",
    "\n",
    "# global constants\n",
    "img = None\n",
    "tl_list = []\n",
    "br_list = []\n",
    "object_list = []\n",
    "\n",
    "# constants\n",
    "image_folder = 'images'\n",
    "savedir = 'annotations'\n",
    "obj = 'fidget_spinner'\n",
    "\n",
    "\n",
    "def line_select_callback(clk, rls):\n",
    "    global tl_list\n",
    "    global br_list\n",
    "    global object_list\n",
    "    tl_list.append((int(clk.xdata), int(clk.ydata)))\n",
    "    br_list.append((int(rls.xdata), int(rls.ydata)))\n",
    "    object_list.append(obj)\n",
    "\n",
    "\n",
    "def onkeypress(event):\n",
    "    global object_list\n",
    "    global tl_list\n",
    "    global br_list\n",
    "    global img\n",
    "    if event.key == 'q':\n",
    "        print(object_list)\n",
    "        write_xml(image_folder, img, object_list, tl_list, br_list, savedir)\n",
    "        tl_list = []\n",
    "        br_list = []\n",
    "        object_list = []\n",
    "        img = None\n",
    "        plt.close()\n",
    "\n",
    "\n",
    "def toggle_selector(event):\n",
    "    toggle_selector.RS.set_active(True)\n",
    "\n",
    "\n",
    "if __name__ == '__main__':\n",
    "    for n, image_file in enumerate(os.scandir(image_folder)):\n",
    "        img = image_file\n",
    "        fig, ax = plt.subplots(1)\n",
    "        mngr = plt.get_current_fig_manager()\n",
    "        mngr.window.setGeometry(250, 120, 1280, 1024)\n",
    "        image = cv2.imread(image_file.path)\n",
    "        image = cv2.cvtColor(image, cv2.COLOR_BGR2RGB)\n",
    "        ax.imshow(image)\n",
    "\n",
    "        toggle_selector.RS = RectangleSelector(\n",
    "            ax, line_select_callback,\n",
    "            drawtype='box', useblit=True,\n",
    "            button=[1], minspanx=5, minspany=5,\n",
    "            spancoords='pixels', interactive=True\n",
    "        )\n",
    "        bbox = plt.connect('key_press_event', toggle_selector)\n",
    "        key = plt.connect('key_press_event', onkeypress)\n",
    "        plt.show()"
   ]
  },
  {
   "cell_type": "code",
   "execution_count": null,
   "metadata": {},
   "outputs": [],
   "source": []
  }
 ],
 "metadata": {
  "kernelspec": {
   "display_name": "Python [conda env:car_plate]",
   "language": "python",
   "name": "conda-env-car_plate-py"
  },
  "language_info": {
   "codemirror_mode": {
    "name": "ipython",
    "version": 3
   },
   "file_extension": ".py",
   "mimetype": "text/x-python",
   "name": "python",
   "nbconvert_exporter": "python",
   "pygments_lexer": "ipython3",
   "version": "3.6.8"
  }
 },
 "nbformat": 4,
 "nbformat_minor": 2
}
